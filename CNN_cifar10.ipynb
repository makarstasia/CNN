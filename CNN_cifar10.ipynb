{
  "cells": [
    {
      "cell_type": "markdown",
      "metadata": {
        "id": "view-in-github",
        "colab_type": "text"
      },
      "source": [
        "<a href=\"https://colab.research.google.com/github/makarstasia/CNN/blob/main/CNN_cifar10.ipynb\" target=\"_parent\"><img src=\"https://colab.research.google.com/assets/colab-badge.svg\" alt=\"Open In Colab\"/></a>"
      ]
    },
    {
      "cell_type": "code",
      "execution_count": null,
      "metadata": {
        "id": "pVd9hlXrDIDd"
      },
      "outputs": [],
      "source": [
        "import numpy\n",
        "from tensorflow.keras.datasets import cifar10\n",
        "from tensorflow.keras.models import Sequential\n",
        "from tensorflow.keras.layers import Dense, Flatten, Activation\n",
        "from tensorflow.keras.layers import Dropout\n",
        "from tensorflow.keras.layers import Conv2D, MaxPooling2D\n",
        "from tensorflow.keras import utils\n",
        "from tensorflow.keras.optimizers import SGD"
      ]
    },
    {
      "cell_type": "code",
      "execution_count": null,
      "metadata": {
        "id": "Zuia7Ff5DiXz"
      },
      "outputs": [],
      "source": [
        "numpy.random.seed(42)"
      ]
    },
    {
      "cell_type": "code",
      "execution_count": null,
      "metadata": {
        "colab": {
          "base_uri": "https://localhost:8080/"
        },
        "id": "XLVrH15nDuY7",
        "outputId": "a0d1cf44-f54e-414c-9bd7-9c5f11054d06"
      },
      "outputs": [
        {
          "name": "stdout",
          "output_type": "stream",
          "text": [
            "Downloading data from https://www.cs.toronto.edu/~kriz/cifar-10-python.tar.gz\n",
            "170500096/170498071 [==============================] - 3s 0us/step\n",
            "170508288/170498071 [==============================] - 3s 0us/step\n"
          ]
        }
      ],
      "source": [
        "(X_train, y_train), (X_test, y_test) = cifar10.load_data()"
      ]
    },
    {
      "cell_type": "code",
      "execution_count": null,
      "metadata": {
        "id": "yMOju5ndEb9f"
      },
      "outputs": [],
      "source": [
        "X_train = X_train.astype('float32')\n",
        "X_test = X_test.astype('float32')\n",
        "X_train /= 255\n",
        "X_test /= 255"
      ]
    },
    {
      "cell_type": "code",
      "execution_count": null,
      "metadata": {
        "id": "wZH3zyS7E1t7"
      },
      "outputs": [],
      "source": [
        "Y_train = utils.to_categorical(y_train, 10)\n",
        "Y_test = utils.to_categorical(y_test, 10)"
      ]
    },
    {
      "cell_type": "code",
      "execution_count": null,
      "metadata": {
        "id": "YV_WoDBZIdMv"
      },
      "outputs": [],
      "source": [
        "model = Sequential()\n",
        "#1st convolution layer\n",
        "model.add(Conv2D(filters=32, kernel_size=(3,3),padding='valid',\n",
        "                input_shape=(32,32,3),activation='relu', data_format=\"channels_last\"))\n",
        "\n",
        "#2nd convolution layer\n",
        "model.add(Conv2D(filters=32, kernel_size=(3, 3), activation='relu', padding='valid',data_format=\"channels_last\")) \n",
        "\n",
        "model.add(MaxPooling2D(pool_size=(2,2),data_format=\"channels_last\")) #1 subsampling layer (2,2 + max)\n",
        "model.add(Dropout(0.25)) #regularization"
      ]
    },
    {
      "cell_type": "code",
      "execution_count": null,
      "metadata": {
        "id": "qFdt-EyHMLUa"
      },
      "outputs": [],
      "source": [
        "#3rd convolution layer\n",
        "model.add(Conv2D(filters=64, kernel_size=(3,3), padding='valid', activation='relu', data_format='channels_last'))\n",
        "\n",
        "#4rd convolution laye\n",
        "model.add(Conv2D(filters=64, kernel_size=(3,3), activation='relu', data_format='channels_last'))\n",
        "\n",
        "#2 subsampling layer\n",
        "model.add(MaxPooling2D(pool_size=(2,2), data_format='channels_last'))\n",
        "model.add(Dropout(0.25)) #regularization"
      ]
    },
    {
      "cell_type": "code",
      "execution_count": null,
      "metadata": {
        "id": "KweCcpN2WeEg"
      },
      "outputs": [],
      "source": [
        "model.add(Flatten())\n",
        "model.add(Dense(512,activation='relu'))\n",
        "model.add(Dropout(0.5))\n",
        "model.add(Dense(10,activation='softmax'))"
      ]
    },
    {
      "cell_type": "code",
      "execution_count": null,
      "metadata": {
        "id": "9TKFwBJpXKTn"
      },
      "outputs": [],
      "source": [
        "#optimization\n",
        "sgd = SGD(0.01, decay=1e-6, momentum=0.9,nesterov=True)\n",
        "model.compile(loss='categorical_crossentropy',\n",
        "              optimizer=sgd,\n",
        "              metrics=['accuracy'])"
      ]
    },
    {
      "cell_type": "code",
      "execution_count": null,
      "metadata": {
        "colab": {
          "background_save": true,
          "base_uri": "https://localhost:8080/"
        },
        "id": "sFZc4C5aXqDv",
        "outputId": "b3392726-7cdf-4e3a-81ca-957d8edd45d3"
      },
      "outputs": [
        {
          "name": "stdout",
          "output_type": "stream",
          "text": [
            "Epoch 1/25\n",
            "1407/1407 - 181s - loss: 2.2716 - accuracy: 0.1257 - val_loss: 2.0563 - val_accuracy: 0.2632 - 181s/epoch - 129ms/step\n",
            "Epoch 2/25\n",
            "1407/1407 - 179s - loss: 1.8444 - accuracy: 0.3203 - val_loss: 1.6120 - val_accuracy: 0.4154 - 179s/epoch - 127ms/step\n",
            "Epoch 3/25\n",
            "1407/1407 - 178s - loss: 1.5292 - accuracy: 0.4364 - val_loss: 1.3300 - val_accuracy: 0.5202 - 178s/epoch - 127ms/step\n",
            "Epoch 4/25\n",
            "1407/1407 - 186s - loss: 1.3658 - accuracy: 0.5063 - val_loss: 1.2566 - val_accuracy: 0.5400 - 186s/epoch - 132ms/step\n",
            "Epoch 5/25\n",
            "1407/1407 - 192s - loss: 1.2457 - accuracy: 0.5539 - val_loss: 1.0995 - val_accuracy: 0.6084 - 192s/epoch - 136ms/step\n",
            "Epoch 6/25\n",
            "1407/1407 - 184s - loss: 1.1664 - accuracy: 0.5846 - val_loss: 0.9974 - val_accuracy: 0.6440 - 184s/epoch - 131ms/step\n",
            "Epoch 7/25\n",
            "1407/1407 - 176s - loss: 1.0939 - accuracy: 0.6102 - val_loss: 0.9647 - val_accuracy: 0.6608 - 176s/epoch - 125ms/step\n",
            "Epoch 8/25\n",
            "1407/1407 - 176s - loss: 1.0417 - accuracy: 0.6308 - val_loss: 0.9257 - val_accuracy: 0.6766 - 176s/epoch - 125ms/step\n",
            "Epoch 9/25\n",
            "1407/1407 - 178s - loss: 1.0004 - accuracy: 0.6473 - val_loss: 0.9647 - val_accuracy: 0.6622 - 178s/epoch - 126ms/step\n",
            "Epoch 10/25\n",
            "1407/1407 - 187s - loss: 0.9611 - accuracy: 0.6624 - val_loss: 0.8490 - val_accuracy: 0.7044 - 187s/epoch - 133ms/step\n",
            "Epoch 11/25\n",
            "1407/1407 - 177s - loss: 0.9327 - accuracy: 0.6702 - val_loss: 0.8689 - val_accuracy: 0.6958 - 177s/epoch - 126ms/step\n",
            "Epoch 12/25\n",
            "1407/1407 - 176s - loss: 0.9083 - accuracy: 0.6829 - val_loss: 0.7968 - val_accuracy: 0.7220 - 176s/epoch - 125ms/step\n",
            "Epoch 13/25\n",
            "1407/1407 - 178s - loss: 0.8865 - accuracy: 0.6890 - val_loss: 0.8467 - val_accuracy: 0.7030 - 178s/epoch - 126ms/step\n",
            "Epoch 14/25\n",
            "1407/1407 - 177s - loss: 0.8696 - accuracy: 0.6923 - val_loss: 0.8065 - val_accuracy: 0.7206 - 177s/epoch - 125ms/step\n",
            "Epoch 15/25\n",
            "1407/1407 - 176s - loss: 0.8555 - accuracy: 0.7024 - val_loss: 0.8301 - val_accuracy: 0.7094 - 176s/epoch - 125ms/step\n",
            "Epoch 16/25\n",
            "1407/1407 - 176s - loss: 0.8507 - accuracy: 0.7038 - val_loss: 0.7984 - val_accuracy: 0.7186 - 176s/epoch - 125ms/step\n",
            "Epoch 17/25\n",
            "1407/1407 - 175s - loss: 0.8420 - accuracy: 0.7060 - val_loss: 0.7805 - val_accuracy: 0.7264 - 175s/epoch - 124ms/step\n",
            "Epoch 18/25\n",
            "1407/1407 - 176s - loss: 0.8309 - accuracy: 0.7100 - val_loss: 0.7890 - val_accuracy: 0.7340 - 176s/epoch - 125ms/step\n",
            "Epoch 19/25\n",
            "1407/1407 - 176s - loss: 0.8224 - accuracy: 0.7131 - val_loss: 0.7418 - val_accuracy: 0.7416 - 176s/epoch - 125ms/step\n",
            "Epoch 20/25\n",
            "1407/1407 - 176s - loss: 0.8217 - accuracy: 0.7160 - val_loss: 0.7553 - val_accuracy: 0.7452 - 176s/epoch - 125ms/step\n",
            "Epoch 21/25\n",
            "1407/1407 - 176s - loss: 0.8078 - accuracy: 0.7206 - val_loss: 0.7599 - val_accuracy: 0.7420 - 176s/epoch - 125ms/step\n",
            "Epoch 22/25\n",
            "1407/1407 - 175s - loss: 0.8136 - accuracy: 0.7168 - val_loss: 0.7436 - val_accuracy: 0.7426 - 175s/epoch - 125ms/step\n",
            "Epoch 23/25\n",
            "1407/1407 - 176s - loss: 0.8103 - accuracy: 0.7207 - val_loss: 0.8103 - val_accuracy: 0.7286 - 176s/epoch - 125ms/step\n",
            "Epoch 24/25\n",
            "1407/1407 - 179s - loss: 0.8070 - accuracy: 0.7189 - val_loss: 0.8079 - val_accuracy: 0.7238 - 179s/epoch - 127ms/step\n",
            "Epoch 25/25\n",
            "1407/1407 - 179s - loss: 0.7920 - accuracy: 0.7255 - val_loss: 0.7838 - val_accuracy: 0.7396 - 179s/epoch - 127ms/step\n"
          ]
        },
        {
          "data": {
            "text/plain": [
              "<keras.callbacks.History at 0x7fbd121a6290>"
            ]
          },
          "execution_count": 18,
          "metadata": {},
          "output_type": "execute_result"
        }
      ],
      "source": [
        "model.fit(X_train, Y_train,\n",
        "          batch_size=32,\n",
        "          epochs=25,\n",
        "          validation_split=0.1,\n",
        "          shuffle=True,\n",
        "          verbose=2)"
      ]
    },
    {
      "cell_type": "code",
      "source": [
        "scores = model.evaluate(X_test, Y_test, verbose=0)\n",
        "print(\"accuracy: %.2f%%\" % (scores[1]*100))"
      ],
      "metadata": {
        "colab": {
          "base_uri": "https://localhost:8080/"
        },
        "id": "TShIHlRJVNuS",
        "outputId": "d73dd3ff-0082-4684-d976-79c3909242cc"
      },
      "execution_count": 20,
      "outputs": [
        {
          "output_type": "stream",
          "name": "stdout",
          "text": [
            "accuracy: 72.98%\n"
          ]
        }
      ]
    },
    {
      "cell_type": "code",
      "source": [
        "print(\"save the network\")\n",
        "model_json = model.to_json()\n",
        "json_file = open(\"cifar10_model.json\", \"w\")\n",
        "json_file.write(model_json)\n",
        "json_file.close()\n",
        "model.save_weights(\"cifar10_model.h5\")\n",
        "print(\"saved successfully\")"
      ],
      "metadata": {
        "colab": {
          "base_uri": "https://localhost:8080/"
        },
        "id": "CzwN9WsVWnWF",
        "outputId": "3a22e2ef-c8b3-4e6a-cc84-db2dbfe539ca"
      },
      "execution_count": 21,
      "outputs": [
        {
          "output_type": "stream",
          "name": "stdout",
          "text": [
            "save the network\n",
            "saved successfully\n"
          ]
        }
      ]
    }
  ],
  "metadata": {
    "colab": {
      "name": "Untitled3.ipynb",
      "provenance": [],
      "authorship_tag": "ABX9TyMpegmiCuF6UMEusHByvI28",
      "include_colab_link": true
    },
    "kernelspec": {
      "display_name": "Python 3",
      "name": "python3"
    },
    "language_info": {
      "name": "python"
    }
  },
  "nbformat": 4,
  "nbformat_minor": 0
}