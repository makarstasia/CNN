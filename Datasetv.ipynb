{
  "nbformat": 4,
  "nbformat_minor": 0,
  "metadata": {
    "colab": {
      "provenance": [],
      "mount_file_id": "1lNf5BRrfWQta4a7ErZ-f18O0H3BwfFpG",
      "authorship_tag": "ABX9TyP2WJShA2o/qbjV6o9l8ZjU",
      "include_colab_link": true
    },
    "kernelspec": {
      "name": "python3",
      "display_name": "Python 3"
    },
    "language_info": {
      "name": "python"
    }
  },
  "cells": [
    {
      "cell_type": "markdown",
      "metadata": {
        "id": "view-in-github",
        "colab_type": "text"
      },
      "source": [
        "<a href=\"https://colab.research.google.com/github/makarstasia/CNN/blob/main/Datasetv.ipynb\" target=\"_parent\"><img src=\"https://colab.research.google.com/assets/colab-badge.svg\" alt=\"Open In Colab\"/></a>"
      ]
    },
    {
      "cell_type": "code",
      "execution_count": null,
      "metadata": {
        "id": "d4wJJkEULf6I"
      },
      "outputs": [],
      "source": [
        "import zipfile #библиотека для работы с zip архивами\n",
        "import os #библиотека для работы с файловой системой\n",
        "import time #библиотека для работы со временем\n",
        "\n",
        "\n",
        "\n",
        "from google.colab import drive #модуль для работы с Google Disc\n",
        "\n",
        "from PIL import Image #для работы с изображениями\n",
        "!pip install git+https://github.com/Zulko/moviepy.git"
      ]
    },
    {
      "cell_type": "code",
      "source": [
        "drive.mount('/content/drive')"
      ],
      "metadata": {
        "colab": {
          "base_uri": "https://localhost:8080/"
        },
        "id": "SL4VSJO5RH8E",
        "outputId": "d6e44b1b-bfc8-4cf6-ef0e-8ac9bd032666"
      },
      "execution_count": 6,
      "outputs": [
        {
          "output_type": "stream",
          "name": "stdout",
          "text": [
            "Drive already mounted at /content/drive; to attempt to forcibly remount, call drive.mount(\"/content/drive\", force_remount=True).\n"
          ]
        }
      ]
    },
    {
      "cell_type": "code",
      "source": [
        "#прописываем путь к файлу с архивом\n",
        "zip_file = '/content/drive/MyDrive/Исследования1.zip'\n",
        "\n",
        "\n",
        "#распаковываем архив\n",
        "z = zipfile.ZipFile(zip_file,'r')\n",
        "z.extractall()\n",
        "\n",
        "\n",
        "#просмотр результата\n",
        "print(os.listdir())"
      ],
      "metadata": {
        "id": "WI7Dai_NRTIa"
      },
      "execution_count": null,
      "outputs": []
    },
    {
      "cell_type": "code",
      "source": [
        "#визуализация выбранного пациента\n",
        "from moviepy import *\n",
        "numpat = 3375\n",
        "filed =f\"/content/Исследования/Инсульт/геморогич/{numpat}/\"\n",
        "directory = filed\n",
        "files = os.listdir(directory)\n",
        "imges = list(filter(lambda x: x.endswith('.jpg'), files))\n",
        "imges.sort()\n",
        "print(imges)\n",
        "clips = [ImageClip(f\"{filed}\"+m).with_duration(0.1) for m in imges]\n",
        "final_clip = concatenate_videoclips(clips, method='compose')\n",
        "final_clip.write_videofile('test.mp4',fps=10)"
      ],
      "metadata": {
        "id": "7sbgEVKmNd_z"
      },
      "execution_count": null,
      "outputs": []
    },
    {
      "cell_type": "code",
      "source": [],
      "metadata": {
        "id": "uny1dHcsc_As"
      },
      "execution_count": null,
      "outputs": []
    }
  ]
}